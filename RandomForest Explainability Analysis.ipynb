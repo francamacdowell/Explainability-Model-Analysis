{
 "cells": [
  {
   "cell_type": "markdown",
   "metadata": {},
   "source": [
    "# Random Forest Explainability Analysis"
   ]
  },
  {
   "cell_type": "markdown",
   "metadata": {},
   "source": [
    "Importing necessary packages:"
   ]
  },
  {
   "cell_type": "code",
   "execution_count": 2,
   "metadata": {
    "slideshow": {
     "slide_type": "fragment"
    }
   },
   "outputs": [],
   "source": [
    "import os\n",
    "import pandas as pd\n",
    "import numpy as np\n",
    "from sklearn.ensemble import RandomForestClassifier\n",
    "from sklearn.model_selection import ShuffleSplit\n",
    "from sklearn.metrics import f1_score\n",
    "from sklearn.metrics import accuracy_score\n",
    "import graphviz\n",
    "import seaborn as sns"
   ]
  },
  {
   "cell_type": "markdown",
   "metadata": {},
   "source": [
    "UTILS:"
   ]
  },
  {
   "cell_type": "code",
   "execution_count": 6,
   "metadata": {
    "scrolled": true
   },
   "outputs": [],
   "source": [
    "import warnings\n",
    "warnings.filterwarnings(\"ignore\")\n",
    "\n",
    "DATABASE_DIR = '/home/macdowell/Workspace/Explainability-Model-Analysis/database/'\n",
    "OUTPUT_DIR = 'output/RandomForest/'\n",
    "\n",
    "def get_entries_name_inside_dir(path):\n",
    "    smell_folders = os.listdir(path)\n",
    "    return smell_folders\n",
    "\n",
    "def dataframe_appended_from_smell_folder(folder_path):\n",
    "    csv_files = os.listdir(folder_path)\n",
    "    df = None\n",
    "    \n",
    "    for csv in csv_files:\n",
    "        if 'lock' in csv:\n",
    "            continue\n",
    "        \n",
    "        if df is None:\n",
    "            df = pd.read_csv(folder_path + '/' + csv)\n",
    "        else:\n",
    "            df_aux = pd.read_csv(folder_path + '/' + csv)\n",
    "            df = pd.concat([df, df_aux])\n",
    "    return df\n",
    "\n",
    "def dict_to_csv(output_path, dict_to_save, column_name):\n",
    "    print(output_path)\n",
    "    df = pd.DataFrame.from_dict(dict_to_save, orient='columns')\n",
    "    df.index.names = [column_name]\n",
    "    df.to_csv(output_path + '.csv')"
   ]
  },
  {
   "cell_type": "markdown",
   "metadata": {},
   "source": [
    "### Effectivity on differents database's percents:\n",
    "\n",
    "- RQ1)"
   ]
  },
  {
   "cell_type": "code",
   "execution_count": 7,
   "metadata": {
    "scrolled": false
   },
   "outputs": [
    {
     "name": "stdout",
     "output_type": "stream",
     "text": [
      "output/RandomForest/RQ1\n"
     ]
    }
   ],
   "source": [
    "def evaluate_model(X, y, df, train_percent, effectivity_dict, smell, cv_splits):\n",
    "    \n",
    "    ss = ShuffleSplit(n_splits=cv_splits, train_size=train_percent, test_size=0.25)\n",
    "    score_list = []\n",
    "    \n",
    "    for train_index, test_index in ss.split(X, y):\n",
    "        X_train, X_test = X.iloc[train_index], X.iloc[test_index]\n",
    "        y_train, y_test = y.iloc[train_index], y.iloc[test_index]\n",
    "\n",
    "        \n",
    "        score = perform_models(\n",
    "            [\n",
    "                RandomForestClassifier()\n",
    "            ],\n",
    "            X_train, X_test,\n",
    "            y_train, y_test,\n",
    "            df,\n",
    "            train_percent,\n",
    "            effectivity_dict,\n",
    "            smell\n",
    "        )\n",
    "        \n",
    "        score_list.append(score)\n",
    "        \n",
    "        # Adding scores into dict:\n",
    "    effectivity_dict[smell][train_percent] = sum(score_list)/len(score_list)\n",
    "        \n",
    "\n",
    "def perform_models(classifiers, X_train, X_test, y_train, y_test, df, train_percent, effectivity_dict, smell):\n",
    "\n",
    "    for classifier in classifiers:\n",
    "        # Creating key index in dict to save evaluation metrics value:\n",
    "        #string += classifier.__class__.__name__\n",
    "\n",
    "        # Train:\n",
    "        classifier.fit(X_train, y_train)\n",
    "        \n",
    "        #TODO: Make Viz woks\n",
    "        # Viz:\n",
    "        '''\n",
    "        dot_data = tree.export_graphviz(classifier, out_file=None, \n",
    "                      feature_names=df.columns,  \n",
    "                      class_names=['smell', 'not smell'],\n",
    "                      filled=True, rounded=True,  \n",
    "                      special_characters=True)  \n",
    "        graph = graphviz.Source(dot_data)  \n",
    "        graph\n",
    "        '''\n",
    "        \n",
    "        # Predicting values with model:\n",
    "        predicteds = classifier.predict(X_test)\n",
    "        \n",
    "        # Getting score metrics:\n",
    "        return f1_score(y_test, predicteds)\n",
    "        \n",
    "\n",
    "smell_folders = get_entries_name_inside_dir(DATABASE_DIR)\n",
    "train_percents = [0.25, 0.5, 0.75]\n",
    "\n",
    "effectivity_dict = {}\n",
    "\n",
    "for smell in smell_folders:\n",
    "    smell_metrics_df = dataframe_appended_from_smell_folder(DATABASE_DIR + smell)\n",
    "\n",
    "    effectivity_dict[smell] = {}\n",
    "    \n",
    "    for percent in train_percents:\n",
    "        \n",
    "        effectivity_dict[smell][percent] = -1\n",
    "        \n",
    "        if '0' in smell_metrics_df.columns:\n",
    "            smell_metrics_df = smell_metrics_df.drop(columns=['0'], axis=1)\n",
    "\n",
    "        for c in smell_metrics_df.columns:\n",
    "            smell_metrics_df[c] = np.nan_to_num(smell_metrics_df[c])\n",
    "\n",
    "        X = smell_metrics_df.iloc[:, smell_metrics_df.columns != 'Smell']\n",
    "        y = smell_metrics_df.iloc[:, smell_metrics_df.columns == 'Smell']\n",
    "        \n",
    "        evaluate_model(X, y, smell_metrics_df, percent, effectivity_dict, smell, cv_splits=5)\n",
    "\n",
    "#print(effectivity_dict)\n",
    "# Writing results in CSV\n",
    "dict_to_csv(OUTPUT_DIR + 'RQ1', effectivity_dict, 'train_percent')"
   ]
  },
  {
   "cell_type": "markdown",
   "metadata": {},
   "source": [
    "### PLOT ABOUT RQ1)"
   ]
  },
  {
   "cell_type": "code",
   "execution_count": 8,
   "metadata": {
    "slideshow": {
     "slide_type": "skip"
    }
   },
   "outputs": [
    {
     "data": {
      "text/plain": [
       "<Figure size 648x432 with 0 Axes>"
      ]
     },
     "metadata": {},
     "output_type": "display_data"
    }
   ],
   "source": [
    "import seaborn as sns; sns.set()\n",
    "import matplotlib.pyplot as plt\n",
    "#Size of the plot\n",
    "plt.rcParams[\"figure.figsize\"] = [9,6]\n",
    "df = pd.read_csv(OUTPUT_DIR + '/RQ1.csv')\n",
    "\n",
    "for smell in smell_folders:\n",
    "    ax = sns.lineplot(x=\"train_percent\", y=smell, data=df)\n",
    "    ax.set(xlabel='Database train percent', ylabel='f1 score')\n",
    "    fig = ax.get_figure()\n",
    "    fig.savefig(\"output/RandomForest/RQ1/\"+ smell + \".png\")\n",
    "    fig.clf()"
   ]
  }
 ],
 "metadata": {
  "kernelspec": {
   "display_name": "Python 3",
   "language": "python",
   "name": "python3"
  },
  "language_info": {
   "codemirror_mode": {
    "name": "ipython",
    "version": 3
   },
   "file_extension": ".py",
   "mimetype": "text/x-python",
   "name": "python",
   "nbconvert_exporter": "python",
   "pygments_lexer": "ipython3",
   "version": "3.7.1"
  }
 },
 "nbformat": 4,
 "nbformat_minor": 2
}
