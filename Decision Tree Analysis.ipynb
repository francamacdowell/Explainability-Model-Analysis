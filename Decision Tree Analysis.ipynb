{
 "cells": [
  {
   "cell_type": "markdown",
   "metadata": {},
   "source": [
    "# Decision Tree Analysis"
   ]
  },
  {
   "cell_type": "markdown",
   "metadata": {},
   "source": [
    "#### DOUBTS:\n",
    "- Cell with value: 999999999\n",
    "- Have to normalize? Think not\n",
    "- About parameters\n",
    "    - splitter\n",
    "    - max_features\n",
    "    - max_leaf_nodes\n",
    "    - min_impurity_decrease"
   ]
  },
  {
   "cell_type": "markdown",
   "metadata": {},
   "source": [
    "Importing necessary packages:"
   ]
  },
  {
   "cell_type": "code",
   "execution_count": 18,
   "metadata": {},
   "outputs": [],
   "source": [
    "import os\n",
    "import pandas as pd\n",
    "import numpy as np\n",
    "from sklearn.tree import DecisionTreeClassifier\n",
    "from sklearn import tree\n",
    "from sklearn.model_selection import ShuffleSplit\n",
    "from sklearn.metrics import f1_score\n",
    "import graphviz\n",
    "import seaborn as sns"
   ]
  },
  {
   "cell_type": "markdown",
   "metadata": {},
   "source": [
    "UTILS:"
   ]
  },
  {
   "cell_type": "code",
   "execution_count": 5,
   "metadata": {
    "scrolled": true
   },
   "outputs": [],
   "source": [
    "DATABASE_DIR = '/home/macdowell/Workspace/Decision-Tree-Analysis/database/'\n",
    "\n",
    "def get_entries_name_inside_dir(path):\n",
    "    smell_folders = os.listdir(path)\n",
    "    return smell_folders\n",
    "\n",
    "def dataframe_appended_from_smell_folder(folder_path):\n",
    "    csv_files = os.listdir(folder_path)\n",
    "    df = None\n",
    "    \n",
    "    for csv in csv_files:\n",
    "        if 'lock' in csv:\n",
    "            continue\n",
    "        \n",
    "        if df is None:\n",
    "            df = pd.read_csv(folder_path + '/' + csv)\n",
    "        else:\n",
    "            df_aux = pd.read_csv(folder_path + '/' + csv)\n",
    "            df = pd.concat([df, df_aux])\n",
    "    return df\n",
    "\n"
   ]
  },
  {
   "cell_type": "markdown",
   "metadata": {},
   "source": [
    "### Effectivity on different database's percents:\n",
    "\n",
    "- RQ1)"
   ]
  },
  {
   "cell_type": "code",
   "execution_count": 15,
   "metadata": {
    "scrolled": false
   },
   "outputs": [
    {
     "name": "stdout",
     "output_type": "stream",
     "text": [
      "train size: 0.25\n",
      "Average: 0.41025641025641024\n",
      "-----------------------------------------------------------------\n",
      "train size: 0.5\n",
      "Average: 0.48780487804878053\n",
      "-----------------------------------------------------------------\n",
      "train size: 0.75\n",
      "Average: 0.6315789473684211\n",
      "-----------------------------------------------------------------\n"
     ]
    },
    {
     "name": "stderr",
     "output_type": "stream",
     "text": [
      "/home/macdowell/Programs/miniconda3/lib/python3.7/site-packages/ipykernel_launcher.py:19: FutureWarning: Sorting because non-concatenation axis is not aligned. A future version\n",
      "of pandas will change to not sort by default.\n",
      "\n",
      "To accept the future behavior, pass 'sort=False'.\n",
      "\n",
      "To retain the current behavior and silence the warning, pass 'sort=True'.\n",
      "\n"
     ]
    }
   ],
   "source": [
    "def evaluate_model(X, y, df, train_percent):\n",
    "     # Creating dict to save scores to evaluate:\n",
    "    f1_scores['DecisionTreeClassifier'] = []\n",
    "    \n",
    "    rs = ShuffleSplit(n_splits=5, train_size=train_percent, test_size=0.25)\n",
    "    for train_index, test_index in rs.split(X, y):\n",
    "        X_train, X_test = X.iloc[train_index], X.iloc[test_index]\n",
    "        y_train, y_test = y.iloc[train_index], y.iloc[test_index]\n",
    "        \n",
    "        perform_models(\n",
    "            [\n",
    "                DecisionTreeClassifier()\n",
    "            ],\n",
    "            X_train, X_test,\n",
    "            y_train, y_test,\n",
    "            df,\n",
    "            train_percent\n",
    "        )\n",
    "        \n",
    "\n",
    "def perform_models(classifiers, X_train, X_test, y_train, y_test, df, train_percent):\n",
    "    string = ''\n",
    "    for classifier in classifiers:\n",
    "        # Creating key index in dict to save evaluation metrics value:\n",
    "        string += classifier.__class__.__name__\n",
    "\n",
    "        # Train:\n",
    "        classifier.fit(X_train, y_train)\n",
    "        \n",
    "        #TODO: Make Viz woks\n",
    "        # Viz:\n",
    "        '''\n",
    "        dot_data = tree.export_graphviz(classifier, out_file=None, \n",
    "                      feature_names=df.columns,  \n",
    "                      class_names=['smell', 'not smell'],\n",
    "                      filled=True, rounded=True,  \n",
    "                      special_characters=True)  \n",
    "        graph = graphviz.Source(dot_data)  \n",
    "        graph\n",
    "        '''\n",
    "        \n",
    "        # Predicting values with model:\n",
    "        predicteds = classifier.predict(X_test)\n",
    "        \n",
    "        # Getting score metrics:\n",
    "        f1 = f1_score(y_test, predicteds)\n",
    "        \n",
    "        # Adding scores:\n",
    "        f1_scores[classifier.__class__.__name__].append(f1)\n",
    "    print('train size: ' + str(train_percent))\n",
    "    print('Average: ' + str(sum(f1_scores['DecisionTreeClassifier'])/len(f1_scores['DecisionTreeClassifier'])))\n",
    "    print('-----------------------------------------------------------------')\n",
    "    \n",
    "f1_scores = {}\n",
    "\n",
    "smell_folders = get_entries_name_inside_dir(DATABASE_DIR)\n",
    "train_percents = [0.25, 0.5, 0.75]\n",
    "\n",
    "for smell in smell_folders:\n",
    "    smell_metrics_df = dataframe_appended_from_smell_folder(DATABASE_DIR + smell)\n",
    "    for percent in train_percents:\n",
    "        #smell_metrics_df = smell_metrics_df.dropna(axis='columns', how='all')\n",
    "        if '0' in smell_metrics_df.columns:\n",
    "            smell_metrics_df = smell_metrics_df.drop(columns=['0'], axis=1)\n",
    "\n",
    "        for c in smell_metrics_df.columns:\n",
    "            smell_metrics_df[c] = np.nan_to_num(smell_metrics_df[c])\n",
    "\n",
    "        X = smell_metrics_df.iloc[:, smell_metrics_df.columns != 'Smell']\n",
    "        y = smell_metrics_df.iloc[:, smell_metrics_df.columns == 'Smell']\n",
    "\n",
    "        evaluate_model(X, y, smell_metrics_df, percent)\n",
    "\n",
    "    break"
   ]
  },
  {
   "cell_type": "markdown",
   "metadata": {},
   "source": [
    "### PLOT ABOUT RQ1)"
   ]
  },
  {
   "cell_type": "code",
   "execution_count": 32,
   "metadata": {},
   "outputs": [
    {
     "data": {
      "image/png": "[encoded data removed]",
      "text/plain": [
       "<Figure size 432x288 with 1 Axes>"
      ]
     },
     "metadata": {},
     "output_type": "display_data"
    }
   ],
   "source": [
    "import seaborn as sns; sns.set()\n",
    "import matplotlib.pyplot as plt\n",
    "df = pd.read_csv('RQ1.csv')\n",
    "ax = sns.lineplot(x=\"train_size\", y=\"f1_score\", data=df)"
   ]
  },
  {
   "cell_type": "markdown",
   "metadata": {},
   "source": [
    "### The maximum depth of the tree:\n",
    "\n",
    "- RQ2)"
   ]
  },
  {
   "cell_type": "markdown",
   "metadata": {},
   "source": [
    "### Effectivity on different database's percents with different maximum depth of the tree:"
   ]
  }
 ],
 "metadata": {
  "kernelspec": {
   "display_name": "Python 3",
   "language": "python",
   "name": "python3"
  },
  "language_info": {
   "codemirror_mode": {
    "name": "ipython",
    "version": 3
   },
   "file_extension": ".py",
   "mimetype": "text/x-python",
   "name": "python",
   "nbconvert_exporter": "python",
   "pygments_lexer": "ipython3",
   "version": "3.7.1"
  }
 },
 "nbformat": 4,
 "nbformat_minor": 2
}
