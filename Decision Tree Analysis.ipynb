{
 "cells": [
  {
   "cell_type": "markdown",
   "metadata": {},
   "source": [
    "# Decision Tree Analysis"
   ]
  },
  {
   "attachments": {},
   "cell_type": "markdown",
   "metadata": {},
   "source": [
    "#### DOUBTS:\n",
    "- Cell with value: 999999999\n",
    "- Have to normalize? Think not"
   ]
  },
  {
   "cell_type": "markdown",
   "metadata": {},
   "source": [
    "Importing necessary packages:"
   ]
  },
  {
   "cell_type": "code",
   "execution_count": 1,
   "metadata": {},
   "outputs": [],
   "source": [
    "import os\n",
    "import pandas as pd\n",
    "from sklearn.tree import DecisionTreeClassifier"
   ]
  },
  {
   "cell_type": "markdown",
   "metadata": {},
   "source": [
    "UTILS:"
   ]
  },
  {
   "cell_type": "code",
   "execution_count": 52,
   "metadata": {
    "scrolled": true
   },
   "outputs": [],
   "source": [
    "DATABASE_DIR = '/home/macdowell/Workspace/Decision-Tree-Analysis/database/'\n",
    "\n",
    "def get_entries_name_inside_dir(path):\n",
    "    smell_folders = os.listdir(path)\n",
    "    return smell_folders\n",
    "\n",
    "def dataframe_appended_from_smell_folder(folder_path):\n",
    "    csv_files = os.listdir(folder_path)\n",
    "    df = None\n",
    "    \n",
    "    for csv in csv_files:\n",
    "        if 'lock' in csv:\n",
    "            continue\n",
    "        \n",
    "        if df is None:\n",
    "            df = pd.read_csv(folder_path + '/' + csv)\n",
    "        else:\n",
    "            df_aux = pd.read_csv(folder_path + '/' + csv)\n",
    "            df = pd.concat([df, df_aux])\n",
    "    return df"
   ]
  },
  {
   "cell_type": "markdown",
   "metadata": {},
   "source": [
    "### Effectivity on different database's percents:\n",
    "\n",
    "- RQ1)"
   ]
  },
  {
   "cell_type": "code",
   "execution_count": 57,
   "metadata": {},
   "outputs": [
    {
     "name": "stdout",
     "output_type": "stream",
     "text": [
      "0     0\n",
      "1     0\n",
      "2     0\n",
      "3     0\n",
      "4     0\n",
      "5     0\n",
      "6     1\n",
      "7     1\n",
      "8     0\n",
      "9     0\n",
      "10    0\n",
      "11    0\n",
      "12    0\n",
      "13    1\n",
      "14    0\n",
      "0     0\n",
      "1     1\n",
      "2     1\n",
      "3     1\n",
      "4     1\n",
      "5     1\n",
      "6     1\n",
      "7     1\n",
      "8     0\n",
      "9     0\n",
      "10    0\n",
      "11    1\n",
      "12    1\n",
      "13    1\n",
      "14    0\n",
      "     ..\n",
      "0     1\n",
      "1     1\n",
      "2     0\n",
      "3     0\n",
      "4     0\n",
      "5     1\n",
      "6     0\n",
      "7     1\n",
      "8     1\n",
      "9     0\n",
      "10    0\n",
      "11    0\n",
      "12    1\n",
      "13    1\n",
      "14    1\n",
      "0     0\n",
      "1     0\n",
      "2     0\n",
      "3     0\n",
      "4     0\n",
      "5     0\n",
      "6     1\n",
      "7     1\n",
      "8     0\n",
      "9     0\n",
      "10    0\n",
      "11    1\n",
      "12    1\n",
      "13    1\n",
      "14    1\n",
      "Name: Smell, Length: 180, dtype: int64\n"
     ]
    },
    {
     "name": "stderr",
     "output_type": "stream",
     "text": [
      "/home/macdowell/Programs/miniconda3/lib/python3.7/site-packages/ipykernel_launcher.py:19: FutureWarning: Sorting because non-concatenation axis is not aligned. A future version\n",
      "of pandas will change to not sort by default.\n",
      "\n",
      "To accept the future behavior, pass 'sort=False'.\n",
      "\n",
      "To retain the current behavior and silence the warning, pass 'sort=True'.\n",
      "\n"
     ]
    }
   ],
   "source": [
    "smell_folders = get_entries_name_inside_dir(DATABASE_DIR)\n",
    "for smell in smell_folders:\n",
    "    smell_metrics_df = dataframe_appended_from_smell_folder(DATABASE_DIR + smell)\n",
    "    \n",
    "    smell_metrics_df[smell_metrics_df['Smell'] == False] = 0\n",
    "    smell_metrics_df[smell_metrics_df['Smell'] == True] = 1\n",
    "    print(smell_metrics_df['Smell'])\n",
    "    \n",
    "    X = smell_metrics_df.iloc[:, smell_metrics_df.columns != 'Smell']\n",
    "    y = smell_metrics_df.iloc[:, smell_metrics_df.columns == 'Smell']\n",
    "    \n",
    "    \n",
    "    break"
   ]
  },
  {
   "cell_type": "markdown",
   "metadata": {},
   "source": [
    "### The maximum depth of the tree:\n",
    "\n",
    "- RQ2)"
   ]
  },
  {
   "cell_type": "markdown",
   "metadata": {},
   "source": [
    "### Effectivity on different database's percents with different maximum depth of the tree:"
   ]
  }
 ],
 "metadata": {
  "kernelspec": {
   "display_name": "Python 3",
   "language": "python",
   "name": "python3"
  },
  "language_info": {
   "codemirror_mode": {
    "name": "ipython",
    "version": 3
   },
   "file_extension": ".py",
   "mimetype": "text/x-python",
   "name": "python",
   "nbconvert_exporter": "python",
   "pygments_lexer": "ipython3",
   "version": "3.7.1"
  }
 },
 "nbformat": 4,
 "nbformat_minor": 2
}
